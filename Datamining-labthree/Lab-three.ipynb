{
 "cells": [
  {
   "cell_type": "code",
   "execution_count": 43,
   "metadata": {},
   "outputs": [],
   "source": [
    "# Import necessary libraries\n",
    "import pandas as pd\n",
    "from mlxtend.frequent_patterns import apriori, association_rules\n",
    "from mlxtend.preprocessing import TransactionEncoder\n",
    "import pyfpgrowth"
   ]
  },
  {
   "cell_type": "code",
   "execution_count": 44,
   "metadata": {},
   "outputs": [],
   "source": [
    "#implementation of  Apiriori algorithm\n",
    "def run_apiriori(df,min_support):\n",
    "    frequent_itemsets=apriori(df,min_support=min_support,use_colnames=True)\n",
    "    return frequent_itemsets;"
   ]
  },
  {
   "cell_type": "code",
   "execution_count": 45,
   "metadata": {},
   "outputs": [],
   "source": [
    "#implementing fp-growth algo\n",
    "def run_fpgrowth(transaction,min_support):\n",
    "    patterns=pyfpgrowth.find_frequent_patterns(transactions,min_support*len(transactions))\n",
    "    return patterns;"
   ]
  },
  {
   "cell_type": "code",
   "execution_count": 46,
   "metadata": {},
   "outputs": [],
   "source": [
    "# Generate association rules\n",
    "def generate_rules(frequent_itemsets, min_confidence):\n",
    " rules = association_rules(frequent_itemsets, metric=\"confidence\",min_threshold=min_confidence)\n",
    " return rules\n",
    "\n",
    "data = {    \n",
    " 'TID': ['T100', 'T200', 'T300', 'T400', 'T500', 'T600', 'T700','T800', 'T900'],\n",
    " 'List of items': [['I1', 'I2', 'I5'],\n",
    " ['I2', 'I4'],\n",
    " ['I2', 'I3'],\n",
    " ['I1', 'I2', 'I4'],\n",
    " ['I1', 'I3'],\n",
    " ['I2', 'I3'],\n",
    " ['I1', 'I3'],\n",
    " ['I1', 'I2', 'I3', 'I5'],\n",
    " ['I1', 'I2', 'I3']]}\n"
   ]
  },
  {
   "cell_type": "code",
   "execution_count": 47,
   "metadata": {},
   "outputs": [
    {
     "name": "stdout",
     "output_type": "stream",
     "text": [
      "    TID     List of items\n",
      "0  T100      [I1, I2, I5]\n",
      "1  T200          [I2, I4]\n",
      "2  T300          [I2, I3]\n",
      "3  T400      [I1, I2, I4]\n",
      "4  T500          [I1, I3]\n",
      "5  T600          [I2, I3]\n",
      "6  T700          [I1, I3]\n",
      "7  T800  [I1, I2, I3, I5]\n",
      "8  T900      [I1, I2, I3]\n"
     ]
    }
   ],
   "source": [
    "#creating dataframe\n",
    "df=pd.DataFrame(data)\n",
    "print(df)"
   ]
  },
  {
   "cell_type": "code",
   "execution_count": 48,
   "metadata": {},
   "outputs": [
    {
     "name": "stdout",
     "output_type": "stream",
     "text": [
      "      I1     I2     I3     I4     I5\n",
      "0   True   True  False  False   True\n",
      "1  False   True  False   True  False\n",
      "2  False   True   True  False  False\n",
      "3   True   True  False   True  False\n",
      "4   True  False   True  False  False\n",
      "5  False   True   True  False  False\n",
      "6   True  False   True  False  False\n",
      "7   True   True   True  False   True\n",
      "8   True   True   True  False  False\n"
     ]
    }
   ],
   "source": [
    "#use one hot encoding\n",
    "te=TransactionEncoder()\n",
    "te_ary=te.fit(df['List of items']).transform(df['List of items'])\n",
    "df_onehot=pd.DataFrame(te_ary,columns=te.columns_)\n",
    "print(df_onehot)"
   ]
  },
  {
   "cell_type": "code",
   "execution_count": 49,
   "metadata": {},
   "outputs": [],
   "source": [
    "#example usage\n",
    "min_support=0.2\n",
    "min_confidence=0.7\n"
   ]
  },
  {
   "cell_type": "code",
   "execution_count": 51,
   "metadata": {},
   "outputs": [
    {
     "name": "stdout",
     "output_type": "stream",
     "text": [
      "Apriori frequent itemsets:\n",
      "     support      itemsets\n",
      "0   0.666667          (I1)\n",
      "1   0.777778          (I2)\n",
      "2   0.666667          (I3)\n",
      "3   0.222222          (I4)\n",
      "4   0.222222          (I5)\n",
      "5   0.444444      (I1, I2)\n",
      "6   0.444444      (I3, I1)\n",
      "7   0.222222      (I1, I5)\n",
      "8   0.444444      (I3, I2)\n",
      "9   0.222222      (I4, I2)\n",
      "10  0.222222      (I2, I5)\n",
      "11  0.222222  (I3, I1, I2)\n",
      "12  0.222222  (I1, I2, I5)\n",
      "Apriori association rules\n",
      "  antecedents consequents  confidence\n",
      "0        (I5)        (I1)         1.0\n",
      "1        (I4)        (I2)         1.0\n",
      "2        (I5)        (I2)         1.0\n",
      "3    (I1, I5)        (I2)         1.0\n",
      "4    (I2, I5)        (I1)         1.0\n",
      "5        (I5)    (I1, I2)         1.0\n"
     ]
    }
   ],
   "source": [
    "#Using Apriori\n",
    "frequent_itemsets_apriori=run_apiriori(df_onehot,min_support)\n",
    "rules_apiriori=generate_rules(frequent_itemsets_apriori,min_confidence)\n",
    "\n",
    "print(\"Apriori frequent itemsets:\")\n",
    "print(frequent_itemsets_apriori)\n",
    "\n",
    "print(\"Apriori association rules\")\n",
    "print(rules_apiriori[['antecedents','consequents','confidence']])"
   ]
  },
  {
   "cell_type": "code",
   "execution_count": 52,
   "metadata": {},
   "outputs": [
    {
     "name": "stdout",
     "output_type": "stream",
     "text": [
      "[['I1', 'I2', 'I5'], ['I2', 'I4'], ['I2', 'I3'], ['I1', 'I2', 'I4'], ['I1', 'I3'], ['I2', 'I3'], ['I1', 'I3'], ['I1', 'I2', 'I3', 'I5'], ['I1', 'I2', 'I3']]\n"
     ]
    }
   ],
   "source": [
    "#extract the list of items\n",
    "transactions=df[\"List of items\"].tolist()\n",
    "print(transactions)"
   ]
  },
  {
   "cell_type": "code",
   "execution_count": 54,
   "metadata": {},
   "outputs": [
    {
     "name": "stdout",
     "output_type": "stream",
     "text": [
      "FP-Growth frequent itemsets:\n",
      "{('I5',): 2, ('I1', 'I5'): 2, ('I2', 'I5'): 2, ('I1', 'I2', 'I5'): 2, ('I4',): 2, ('I2', 'I4'): 2, ('I1',): 6, ('I1', 'I2'): 4, ('I2', 'I3'): 4, ('I1', 'I2', 'I3'): 2, ('I1', 'I3'): 4, ('I2',): 7}\n",
      "FP-Growth association rules:\n",
      "{('I5',): (('I1', 'I2'), 1.0), ('I1', 'I5'): (('I2',), 1.0), ('I2', 'I5'): (('I1',), 1.0), ('I4',): (('I2',), 1.0)}\n"
     ]
    }
   ],
   "source": [
    "#using fpgrowth\n",
    "min_support=0.2\n",
    "min_confidence=0.7\n",
    "patterns_fpgrowth=run_fpgrowth(transactions,min_support)\n",
    "rules_fpgrowth =pyfpgrowth.generate_association_rules(patterns_fpgrowth,min_confidence) \n",
    "# Print results or perform further analysis\n",
    "print(\"FP-Growth frequent itemsets:\")\n",
    "print(patterns_fpgrowth)\n",
    "print(\"FP-Growth association rules:\")\n",
    "print(rules_fpgrowth)\n"
   ]
  }
 ],
 "metadata": {
  "kernelspec": {
   "display_name": "Python 3",
   "language": "python",
   "name": "python3"
  },
  "language_info": {
   "codemirror_mode": {
    "name": "ipython",
    "version": 3
   },
   "file_extension": ".py",
   "mimetype": "text/x-python",
   "name": "python",
   "nbconvert_exporter": "python",
   "pygments_lexer": "ipython3",
   "version": "3.9.5"
  }
 },
 "nbformat": 4,
 "nbformat_minor": 2
}
